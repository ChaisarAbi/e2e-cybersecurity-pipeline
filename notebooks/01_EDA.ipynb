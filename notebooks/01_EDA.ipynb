{
 "cells": [
  {
   "cell_type": "code",
   "execution_count": 2,
   "id": "6bd956c0",
   "metadata": {},
   "outputs": [
    {
     "name": "stdout",
     "output_type": "stream",
     "text": [
      "Current working directory: c:\\Users\\user\\Desktop\\cyber-threat-predictor\\notebooks\n"
     ]
    }
   ],
   "source": [
    "import pandas as pd\n",
    "import numpy as np\n",
    "import matplotlib.pyplot as plt\n",
    "import seaborn as sns\n",
    "import os \n",
    "current_directory = os.getcwd()\n",
    "print(f\"Current working directory: {current_directory}\")"
   ]
  },
  {
   "cell_type": "code",
   "execution_count": 3,
   "id": "ee9eb71e",
   "metadata": {},
   "outputs": [
    {
     "data": {
      "text/html": [
       "<div>\n",
       "<style scoped>\n",
       "    .dataframe tbody tr th:only-of-type {\n",
       "        vertical-align: middle;\n",
       "    }\n",
       "\n",
       "    .dataframe tbody tr th {\n",
       "        vertical-align: top;\n",
       "    }\n",
       "\n",
       "    .dataframe thead th {\n",
       "        text-align: right;\n",
       "    }\n",
       "</style>\n",
       "<table border=\"1\" class=\"dataframe\">\n",
       "  <thead>\n",
       "    <tr style=\"text-align: right;\">\n",
       "      <th></th>\n",
       "      <th>Country</th>\n",
       "      <th>Year</th>\n",
       "      <th>Attack Type</th>\n",
       "      <th>Target Industry</th>\n",
       "      <th>Financial Loss (in Million $)</th>\n",
       "      <th>Number of Affected Users</th>\n",
       "      <th>Attack Source</th>\n",
       "      <th>Security Vulnerability Type</th>\n",
       "      <th>Defense Mechanism Used</th>\n",
       "      <th>Incident Resolution Time (in Hours)</th>\n",
       "    </tr>\n",
       "  </thead>\n",
       "  <tbody>\n",
       "    <tr>\n",
       "      <th>0</th>\n",
       "      <td>China</td>\n",
       "      <td>2019</td>\n",
       "      <td>Phishing</td>\n",
       "      <td>Education</td>\n",
       "      <td>80.53</td>\n",
       "      <td>773169</td>\n",
       "      <td>Hacker Group</td>\n",
       "      <td>Unpatched Software</td>\n",
       "      <td>VPN</td>\n",
       "      <td>63</td>\n",
       "    </tr>\n",
       "    <tr>\n",
       "      <th>1</th>\n",
       "      <td>China</td>\n",
       "      <td>2019</td>\n",
       "      <td>Ransomware</td>\n",
       "      <td>Retail</td>\n",
       "      <td>62.19</td>\n",
       "      <td>295961</td>\n",
       "      <td>Hacker Group</td>\n",
       "      <td>Unpatched Software</td>\n",
       "      <td>Firewall</td>\n",
       "      <td>71</td>\n",
       "    </tr>\n",
       "    <tr>\n",
       "      <th>2</th>\n",
       "      <td>India</td>\n",
       "      <td>2017</td>\n",
       "      <td>Man-in-the-Middle</td>\n",
       "      <td>IT</td>\n",
       "      <td>38.65</td>\n",
       "      <td>605895</td>\n",
       "      <td>Hacker Group</td>\n",
       "      <td>Weak Passwords</td>\n",
       "      <td>VPN</td>\n",
       "      <td>20</td>\n",
       "    </tr>\n",
       "    <tr>\n",
       "      <th>3</th>\n",
       "      <td>UK</td>\n",
       "      <td>2024</td>\n",
       "      <td>Ransomware</td>\n",
       "      <td>Telecommunications</td>\n",
       "      <td>41.44</td>\n",
       "      <td>659320</td>\n",
       "      <td>Nation-state</td>\n",
       "      <td>Social Engineering</td>\n",
       "      <td>AI-based Detection</td>\n",
       "      <td>7</td>\n",
       "    </tr>\n",
       "    <tr>\n",
       "      <th>4</th>\n",
       "      <td>Germany</td>\n",
       "      <td>2018</td>\n",
       "      <td>Man-in-the-Middle</td>\n",
       "      <td>IT</td>\n",
       "      <td>74.41</td>\n",
       "      <td>810682</td>\n",
       "      <td>Insider</td>\n",
       "      <td>Social Engineering</td>\n",
       "      <td>VPN</td>\n",
       "      <td>68</td>\n",
       "    </tr>\n",
       "  </tbody>\n",
       "</table>\n",
       "</div>"
      ],
      "text/plain": [
       "   Country  Year        Attack Type     Target Industry  \\\n",
       "0    China  2019           Phishing           Education   \n",
       "1    China  2019         Ransomware              Retail   \n",
       "2    India  2017  Man-in-the-Middle                  IT   \n",
       "3       UK  2024         Ransomware  Telecommunications   \n",
       "4  Germany  2018  Man-in-the-Middle                  IT   \n",
       "\n",
       "   Financial Loss (in Million $)  Number of Affected Users Attack Source  \\\n",
       "0                          80.53                    773169  Hacker Group   \n",
       "1                          62.19                    295961  Hacker Group   \n",
       "2                          38.65                    605895  Hacker Group   \n",
       "3                          41.44                    659320  Nation-state   \n",
       "4                          74.41                    810682       Insider   \n",
       "\n",
       "  Security Vulnerability Type Defense Mechanism Used  \\\n",
       "0          Unpatched Software                    VPN   \n",
       "1          Unpatched Software               Firewall   \n",
       "2              Weak Passwords                    VPN   \n",
       "3          Social Engineering     AI-based Detection   \n",
       "4          Social Engineering                    VPN   \n",
       "\n",
       "   Incident Resolution Time (in Hours)  \n",
       "0                                   63  \n",
       "1                                   71  \n",
       "2                                   20  \n",
       "3                                    7  \n",
       "4                                   68  "
      ]
     },
     "execution_count": 3,
     "metadata": {},
     "output_type": "execute_result"
    }
   ],
   "source": [
    "df = pd.read_csv('../data/raw/Global_Cybersecurity_Threats_2015-2024.csv')\n",
    "df.head()"
   ]
  },
  {
   "cell_type": "code",
   "execution_count": 4,
   "id": "b0b8e7e0",
   "metadata": {},
   "outputs": [
    {
     "name": "stdout",
     "output_type": "stream",
     "text": [
      "<class 'pandas.core.frame.DataFrame'>\n",
      "RangeIndex: 3000 entries, 0 to 2999\n",
      "Data columns (total 10 columns):\n",
      " #   Column                               Non-Null Count  Dtype  \n",
      "---  ------                               --------------  -----  \n",
      " 0   Country                              3000 non-null   object \n",
      " 1   Year                                 3000 non-null   int64  \n",
      " 2   Attack Type                          3000 non-null   object \n",
      " 3   Target Industry                      3000 non-null   object \n",
      " 4   Financial Loss (in Million $)        3000 non-null   float64\n",
      " 5   Number of Affected Users             3000 non-null   int64  \n",
      " 6   Attack Source                        3000 non-null   object \n",
      " 7   Security Vulnerability Type          3000 non-null   object \n",
      " 8   Defense Mechanism Used               3000 non-null   object \n",
      " 9   Incident Resolution Time (in Hours)  3000 non-null   int64  \n",
      "dtypes: float64(1), int64(3), object(6)\n",
      "memory usage: 234.5+ KB\n"
     ]
    }
   ],
   "source": [
    "df.info()"
   ]
  },
  {
   "cell_type": "code",
   "execution_count": 5,
   "id": "5e95105e",
   "metadata": {},
   "outputs": [
    {
     "data": {
      "text/plain": [
       "3000"
      ]
     },
     "execution_count": 5,
     "metadata": {},
     "output_type": "execute_result"
    }
   ],
   "source": [
    "df['Country'].count()"
   ]
  },
  {
   "cell_type": "code",
   "execution_count": 6,
   "id": "51314658",
   "metadata": {},
   "outputs": [
    {
     "data": {
      "text/plain": [
       "Index(['Country', 'Year', 'Attack Type', 'Target Industry',\n",
       "       'Financial Loss (in Million $)', 'Number of Affected Users',\n",
       "       'Attack Source', 'Security Vulnerability Type',\n",
       "       'Defense Mechanism Used', 'Incident Resolution Time (in Hours)'],\n",
       "      dtype='object')"
      ]
     },
     "execution_count": 6,
     "metadata": {},
     "output_type": "execute_result"
    }
   ],
   "source": [
    "df.columns"
   ]
  },
  {
   "cell_type": "code",
   "execution_count": 7,
   "id": "982ba4e8",
   "metadata": {},
   "outputs": [
    {
     "data": {
      "text/plain": [
       "Country                                 object\n",
       "Year                                     int64\n",
       "Attack Type                             object\n",
       "Target Industry                         object\n",
       "Financial Loss (in Million $)          float64\n",
       "Number of Affected Users                 int64\n",
       "Attack Source                           object\n",
       "Security Vulnerability Type             object\n",
       "Defense Mechanism Used                  object\n",
       "Incident Resolution Time (in Hours)      int64\n",
       "dtype: object"
      ]
     },
     "execution_count": 7,
     "metadata": {},
     "output_type": "execute_result"
    }
   ],
   "source": [
    "df.dtypes"
   ]
  },
  {
   "cell_type": "code",
   "execution_count": 8,
   "id": "8d65f24c",
   "metadata": {},
   "outputs": [],
   "source": [
    "# EDA"
   ]
  },
  {
   "cell_type": "code",
   "execution_count": 9,
   "id": "19b1415a",
   "metadata": {},
   "outputs": [
    {
     "data": {
      "text/plain": [
       "Attack Type\n",
       "DDoS                 531\n",
       "Phishing             529\n",
       "SQL Injection        503\n",
       "Ransomware           493\n",
       "Malware              485\n",
       "Man-in-the-Middle    459\n",
       "Name: count, dtype: int64"
      ]
     },
     "execution_count": 9,
     "metadata": {},
     "output_type": "execute_result"
    }
   ],
   "source": [
    "df['Attack Type'].value_counts()"
   ]
  },
  {
   "cell_type": "code",
   "execution_count": 10,
   "id": "5565d887",
   "metadata": {},
   "outputs": [
    {
     "data": {
      "image/png": "[encoded data removed]",
      "text/plain": [
       "<Figure size 640x480 with 1 Axes>"
      ]
     },
     "metadata": {},
     "output_type": "display_data"
    }
   ],
   "source": [
    "plt.Figure(figsize=(10,5))\n",
    "sns.countplot(x = 'Attack Type', data= df)\n",
    "plt.title('Frequency of Attack Type 2015 - 2024')\n",
    "plt.xticks(rotation = 8)\n",
    "plt.show()"
   ]
  },
  {
   "cell_type": "code",
   "execution_count": null,
   "id": "d368f558",
   "metadata": {},
   "outputs": [],
   "source": []
  }
 ],
 "metadata": {
  "kernelspec": {
   "display_name": "Python 3",
   "language": "python",
   "name": "python3"
  },
  "language_info": {
   "codemirror_mode": {
    "name": "ipython",
    "version": 3
   },
   "file_extension": ".py",
   "mimetype": "text/x-python",
   "name": "python",
   "nbconvert_exporter": "python",
   "pygments_lexer": "ipython3",
   "version": "3.11.9"
  }
 },
 "nbformat": 4,
 "nbformat_minor": 5
}
